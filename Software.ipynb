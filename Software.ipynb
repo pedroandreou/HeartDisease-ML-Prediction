{
 "cells": [
  {
   "cell_type": "markdown",
   "id": "cfaaf3fd",
   "metadata": {
    "id": "cfaaf3fd"
   },
   "source": [
    "## Install libraries"
   ]
  },
  {
   "cell_type": "code",
   "execution_count": 1,
   "id": "a406e120",
   "metadata": {
    "id": "a406e120"
   },
   "outputs": [],
   "source": [
    "import warnings\n",
    "warnings.filterwarnings(\"ignore\", category=UserWarning)\n",
    "\n",
    "import time\n",
    "import pandas as pd\n",
    "pd.options.mode.chained_assignment = None\n",
    "import numpy as np\n",
    "\n",
    "import matplotlib.pyplot as plt\n",
    "import matplotlib.mlab as mlab\n",
    "import matplotlib\n",
    "plt.style.use('ggplot') \n",
    "from matplotlib.pyplot import figure\n",
    "%matplotlib inline \n",
    "matplotlib.rcParams['figure.figsize'] = (12,8)\n",
    "import seaborn as sns\n",
    "\n",
    "# Feature Selection\n",
    "from sklearn.feature_selection import SelectKBest\n",
    "from sklearn.feature_selection import chi2\n",
    "\n",
    "# Training\n",
    "from sklearn.model_selection import train_test_split\n",
    "\n",
    "# Metrics\n",
    "from sklearn.metrics import classification_report\n",
    "from sklearn.metrics import recall_score\n",
    "from sklearn.metrics import confusion_matrix\n",
    "\n",
    "# Models\n",
    "from sklearn.linear_model import LogisticRegression\n",
    "from sklearn.tree import DecisionTreeClassifier\n",
    "from sklearn.ensemble import RandomForestClassifier\n",
    "from xgboost import XGBClassifier\n",
    "\n",
    "# Tuning\n",
    "from sklearn.model_selection import GridSearchCV\n",
    "from sklearn.model_selection import cross_val_score\n",
    "\n",
    "# Exporting\n",
    "import pickle"
   ]
  },
  {
   "cell_type": "code",
   "execution_count": 2,
   "id": "_9atg5oe_dWz",
   "metadata": {
    "colab": {
     "base_uri": "https://localhost:8080/"
    },
    "id": "_9atg5oe_dWz",
    "outputId": "d3896315-14e2-48d0-eb02-d031b64777f7"
   },
   "outputs": [
    {
     "ename": "ModuleNotFoundError",
     "evalue": "No module named 'google.colab'",
     "output_type": "error",
     "traceback": [
      "\u001b[1;31m---------------------------------------------------------------------------\u001b[0m",
      "\u001b[1;31mModuleNotFoundError\u001b[0m                       Traceback (most recent call last)",
      "Cell \u001b[1;32mIn[2], line 1\u001b[0m\n\u001b[1;32m----> 1\u001b[0m \u001b[38;5;28;01mfrom\u001b[39;00m \u001b[38;5;21;01mgoogle\u001b[39;00m\u001b[38;5;21;01m.\u001b[39;00m\u001b[38;5;21;01mcolab\u001b[39;00m \u001b[38;5;28;01mimport\u001b[39;00m drive\n\u001b[0;32m      2\u001b[0m drive\u001b[38;5;241m.\u001b[39mmount(\u001b[38;5;124m'\u001b[39m\u001b[38;5;124m/content/gdrive\u001b[39m\u001b[38;5;124m'\u001b[39m)\n",
      "\u001b[1;31mModuleNotFoundError\u001b[0m: No module named 'google.colab'"
     ]
    }
   ],
   "source": [
    "from google.colab import drive\n",
    "drive.mount('/content/gdrive')"
   ]
  },
  {
   "cell_type": "code",
   "execution_count": null,
   "id": "G4uPRnI6ABSo",
   "metadata": {
    "colab": {
     "base_uri": "https://localhost:8080/"
    },
    "id": "G4uPRnI6ABSo",
    "outputId": "6a7f6b72-4bea-4c3f-e24c-ee3777cd012e"
   },
   "outputs": [],
   "source": [
    "%cd gdrive"
   ]
  },
  {
   "cell_type": "markdown",
   "id": "c28a856e",
   "metadata": {
    "id": "c28a856e"
   },
   "source": [
    "## Load dataset"
   ]
  },
  {
   "cell_type": "code",
   "execution_count": null,
   "id": "eiqR5MvIARNT",
   "metadata": {
    "colab": {
     "base_uri": "https://localhost:8080/"
    },
    "id": "eiqR5MvIARNT",
    "outputId": "a948f922-d00e-41ce-e087-711581866adb"
   },
   "outputs": [],
   "source": [
    "%cd MyDrive"
   ]
  },
  {
   "cell_type": "code",
   "execution_count": null,
   "id": "IuYm8C1pAXmg",
   "metadata": {
    "colab": {
     "base_uri": "https://localhost:8080/"
    },
    "id": "IuYm8C1pAXmg",
    "outputId": "07e657aa-19e2-4216-d464-b6f45a9470d1"
   },
   "outputs": [],
   "source": [
    "%cd HeartDisease/"
   ]
  },
  {
   "cell_type": "code",
   "execution_count": null,
   "id": "46f9fc37",
   "metadata": {
    "id": "46f9fc37"
   },
   "outputs": [],
   "source": [
    "# Read the CSV file's data\n",
    "df = pd.read_csv('heart_disease_dataset.csv')"
   ]
  },
  {
   "cell_type": "markdown",
   "id": "351fe2d9",
   "metadata": {
    "id": "351fe2d9"
   },
   "source": [
    "## EDA"
   ]
  },
  {
   "cell_type": "code",
   "execution_count": null,
   "id": "1eba1865",
   "metadata": {
    "colab": {
     "base_uri": "https://localhost:8080/",
     "height": 206
    },
    "id": "1eba1865",
    "outputId": "06145b42-d73d-49e6-b750-8fe4172f5bde"
   },
   "outputs": [],
   "source": [
    "# Quick look at the data\n",
    "df.head()"
   ]
  },
  {
   "cell_type": "code",
   "execution_count": null,
   "id": "ea297961",
   "metadata": {
    "colab": {
     "base_uri": "https://localhost:8080/"
    },
    "id": "ea297961",
    "outputId": "2f26591d-a0f6-48bc-bca5-fedb2f3f46a6"
   },
   "outputs": [],
   "source": [
    "# Show the dataset's shape\n",
    "df.shape"
   ]
  },
  {
   "cell_type": "code",
   "execution_count": null,
   "id": "8e30417e",
   "metadata": {
    "colab": {
     "base_uri": "https://localhost:8080/"
    },
    "id": "8e30417e",
    "outputId": "835f3dee-77cb-44bb-d348-e10c6b664d7c"
   },
   "outputs": [],
   "source": [
    "# Show the non null count and datatypes of the variables\n",
    "df.info()"
   ]
  },
  {
   "cell_type": "code",
   "execution_count": null,
   "id": "d6ca7954",
   "metadata": {
    "colab": {
     "base_uri": "https://localhost:8080/",
     "height": 301
    },
    "id": "d6ca7954",
    "outputId": "588557fa-45a4-48ea-bf00-fe0441138a4f"
   },
   "outputs": [],
   "source": [
    "df.describe()"
   ]
  },
  {
   "cell_type": "code",
   "execution_count": null,
   "id": "53becdb0",
   "metadata": {
    "colab": {
     "base_uri": "https://localhost:8080/",
     "height": 897
    },
    "id": "53becdb0",
    "outputId": "11f90ef5-389d-48e9-8c04-31580d8c2581"
   },
   "outputs": [],
   "source": [
    "df.hist(bins=20, figsize=(20,15))\n",
    "plt.show()"
   ]
  },
  {
   "cell_type": "code",
   "execution_count": null,
   "id": "4d5a92d5",
   "metadata": {
    "colab": {
     "base_uri": "https://localhost:8080/"
    },
    "id": "4d5a92d5",
    "outputId": "096c1dd5-0924-45b3-dea3-b0e02a79779d",
    "scrolled": true
   },
   "outputs": [],
   "source": [
    "# Look better at the target variable\n",
    "df.target.value_counts()"
   ]
  },
  {
   "cell_type": "code",
   "execution_count": null,
   "id": "a8091ee9",
   "metadata": {
    "colab": {
     "base_uri": "https://localhost:8080/",
     "height": 533
    },
    "id": "a8091ee9",
    "outputId": "3a894545-8fea-4215-f681-b9e26e08a586"
   },
   "outputs": [],
   "source": [
    "# Visualise the target variable\n",
    "sns.countplot(x='target', data=df)"
   ]
  },
  {
   "cell_type": "code",
   "execution_count": null,
   "id": "43387b25",
   "metadata": {
    "colab": {
     "base_uri": "https://localhost:8080/"
    },
    "id": "43387b25",
    "outputId": "48903eb4-6a02-4afb-96dc-856f17a37595"
   },
   "outputs": [],
   "source": [
    "# Calculate the number of samples in each class\n",
    "num_class_0 = np.sum(df.values == 0)\n",
    "num_class_1 = np.sum(df.values == 1)\n",
    "\n",
    "\n",
    "# Calculate the class imbalance ratio\n",
    "class_imbalance_ratio = num_class_0 / (num_class_0 + num_class_1)\n",
    "print(f\"Class imbalance ratio: {class_imbalance_ratio}\")"
   ]
  },
  {
   "cell_type": "code",
   "execution_count": null,
   "id": "5c63e1a3",
   "metadata": {
    "colab": {
     "base_uri": "https://localhost:8080/"
    },
    "id": "5c63e1a3",
    "outputId": "9514d808-3159-483c-a046-20d471036227"
   },
   "outputs": [],
   "source": [
    "# Check for duplicate values\n",
    "df.duplicated().sum()"
   ]
  },
  {
   "cell_type": "code",
   "execution_count": null,
   "id": "8e160769",
   "metadata": {
    "colab": {
     "base_uri": "https://localhost:8080/"
    },
    "id": "8e160769",
    "outputId": "c5f471d5-4df3-4c22-d525-2c5945487f1d"
   },
   "outputs": [],
   "source": [
    "# Each duplicate\n",
    "duplicate_rows = df[df.duplicated(keep=False)]\n",
    "\n",
    "# Print the duplicate rows\n",
    "print(duplicate_rows)"
   ]
  },
  {
   "cell_type": "code",
   "execution_count": null,
   "id": "1d57f73d",
   "metadata": {
    "colab": {
     "base_uri": "https://localhost:8080/",
     "height": 724
    },
    "id": "1d57f73d",
    "outputId": "e21ed55e-b450-45ab-fc52-de6e8f5cf275"
   },
   "outputs": [],
   "source": [
    "# Correlation heatmap\n",
    "sns.set(rc={'figure.figsize':(20,12)})\n",
    "sns.heatmap(df.corr().abs(),annot=True)"
   ]
  },
  {
   "cell_type": "code",
   "execution_count": null,
   "id": "0bb1a4e5",
   "metadata": {
    "colab": {
     "base_uri": "https://localhost:8080/",
     "height": 691
    },
    "id": "0bb1a4e5",
    "outputId": "b68db372-e7e9-4cdf-e35a-95eccbfe7324"
   },
   "outputs": [],
   "source": [
    "sns.set_context('notebook',font_scale = 2.3)\n",
    "df.drop('target', axis=1).corrwith(df.target).plot(kind='bar', grid=True, figsize=(20, 10), \n",
    "                                                        title=\"Correlation with the target feature\")\n",
    "plt.tight_layout()"
   ]
  },
  {
   "cell_type": "code",
   "execution_count": null,
   "id": "94f955ec",
   "metadata": {
    "colab": {
     "base_uri": "https://localhost:8080/"
    },
    "id": "94f955ec",
    "outputId": "8591af24-6775-4342-af38-f7ca7aabfead"
   },
   "outputs": [],
   "source": [
    "df.columns"
   ]
  },
  {
   "cell_type": "code",
   "execution_count": null,
   "id": "414d3b1d",
   "metadata": {
    "colab": {
     "base_uri": "https://localhost:8080/",
     "height": 608
    },
    "id": "414d3b1d",
    "outputId": "3e8aa8cd-95c1-4c37-abe3-b0acef29862e"
   },
   "outputs": [],
   "source": [
    "# Visualise the outliers of the numerical columns\n",
    "plt.figure(figsize=(20, 10), facecolor='w')\n",
    "\n",
    "sns.boxplot(data=df[['age', 'sex', 'cp', 'trestbps', 'chol', 'fbs', 'restecg', 'thalach', 'exang', 'oldpeak', 'slope', 'ca', 'thal']])\n",
    "\n",
    "plt.show()"
   ]
  },
  {
   "cell_type": "code",
   "execution_count": null,
   "id": "7147e43c",
   "metadata": {
    "colab": {
     "base_uri": "https://localhost:8080/"
    },
    "id": "7147e43c",
    "outputId": "16d2fed2-70e2-4bc0-c6e9-e02b5eb1ce5d"
   },
   "outputs": [],
   "source": [
    "# find the extreme value of chol column\n",
    "df['chol'].max()"
   ]
  },
  {
   "cell_type": "code",
   "execution_count": null,
   "id": "HAb8M6_exKCC",
   "metadata": {
    "colab": {
     "base_uri": "https://localhost:8080/"
    },
    "id": "HAb8M6_exKCC",
    "outputId": "03b073cb-4512-4366-c712-6773d09e199f"
   },
   "outputs": [],
   "source": [
    "# find the extreme value of trestbps column\n",
    "print(\"max: \", df['trestbps'].max())\n",
    "\n",
    "print(\"min: \", df['trestbps'].min())"
   ]
  },
  {
   "cell_type": "markdown",
   "id": "b64fa525",
   "metadata": {
    "id": "b64fa525"
   },
   "source": [
    "## Data Cleaning and Preprocessing"
   ]
  },
  {
   "cell_type": "markdown",
   "id": "d3e968c9",
   "metadata": {
    "id": "d3e968c9"
   },
   "source": [
    "### Verify that there is no null value"
   ]
  },
  {
   "cell_type": "code",
   "execution_count": null,
   "id": "8845dd48",
   "metadata": {
    "colab": {
     "base_uri": "https://localhost:8080/"
    },
    "id": "8845dd48",
    "outputId": "28b6291e-f3fb-4a2d-e094-9fd53991a087"
   },
   "outputs": [],
   "source": [
    "# Prin number of missing values in each column\n",
    "print(df.isnull().sum())"
   ]
  },
  {
   "cell_type": "markdown",
   "id": "6e8ecd8d",
   "metadata": {
    "id": "6e8ecd8d"
   },
   "source": [
    "### Fixing the outliers"
   ]
  },
  {
   "cell_type": "code",
   "execution_count": null,
   "id": "9e6f1566",
   "metadata": {
    "colab": {
     "base_uri": "https://localhost:8080/",
     "height": 0
    },
    "id": "9e6f1566",
    "outputId": "a1b76621-89f8-4949-f75b-907134aebafa"
   },
   "outputs": [],
   "source": [
    "# Show the columns which need outlier treatment\n",
    "# Exclude the target var\n",
    "dfIQR=df[['age', 'sex', 'cp', 'trestbps', 'chol', 'fbs', 'restecg', 'thalach', 'exang', 'oldpeak', 'slope', 'ca', 'thal']]\n",
    "\n",
    "\n",
    "dfIQR.describe()"
   ]
  },
  {
   "cell_type": "code",
   "execution_count": null,
   "id": "b3a43662",
   "metadata": {
    "id": "b3a43662"
   },
   "outputs": [],
   "source": [
    "Q1 = dfIQR.quantile(0.25) # Calculate 1st quantile\n",
    "Q3 = dfIQR.quantile(0.75) # Calculate 3rd quantile\n",
    "\n",
    "\n",
    "IQR = Q3-Q1 "
   ]
  },
  {
   "cell_type": "code",
   "execution_count": null,
   "id": "0b9ad6f6",
   "metadata": {
    "colab": {
     "base_uri": "https://localhost:8080/"
    },
    "id": "0b9ad6f6",
    "outputId": "48ba85cf-8dfe-493a-c006-0f252325f2d0"
   },
   "outputs": [],
   "source": [
    "# Check for values that fall below the lower bound and above the upper bound \n",
    "df = df[~((df < (Q1-1.5 * IQR)) |(df > (Q3 + 1.5 * IQR))).any(axis=1)]"
   ]
  },
  {
   "cell_type": "code",
   "execution_count": null,
   "id": "40b3a9f0",
   "metadata": {
    "colab": {
     "base_uri": "https://localhost:8080/",
     "height": 0
    },
    "id": "40b3a9f0",
    "outputId": "57103555-9439-4bf1-aa9f-4fe1ebec3cbd"
   },
   "outputs": [],
   "source": [
    "# Visualise the outliers of the numerical columns again\n",
    "plt.figure(figsize=(20,10), facecolor='w')\n",
    "sns.boxplot(data=df[['age', 'sex', 'cp', 'trestbps', 'chol', 'fbs', 'restecg', 'thalach', 'exang', 'oldpeak', 'slope', 'ca', 'thal']])\n",
    "plt.show()"
   ]
  },
  {
   "cell_type": "code",
   "execution_count": null,
   "id": "75bc355e",
   "metadata": {
    "colab": {
     "base_uri": "https://localhost:8080/"
    },
    "id": "75bc355e",
    "outputId": "36f9eb52-5922-43d1-a182-c84ed4aa6458"
   },
   "outputs": [],
   "source": [
    "# Check for duplicate values\n",
    "df.duplicated().sum()"
   ]
  },
  {
   "cell_type": "markdown",
   "id": "a1d66320",
   "metadata": {
    "id": "a1d66320"
   },
   "source": [
    "### Feature Selection"
   ]
  },
  {
   "cell_type": "code",
   "execution_count": null,
   "id": "b0469fc2",
   "metadata": {
    "colab": {
     "base_uri": "https://localhost:8080/"
    },
    "id": "b0469fc2",
    "outputId": "d6a7e297-264c-4bd8-9359-278aa46ecf82"
   },
   "outputs": [],
   "source": [
    "# Separate independent and dependent variables\n",
    "X = df.iloc[:, :-1]  # independent columns\n",
    "y = df.iloc[:, -1]    # target column\n",
    "\n",
    "\n",
    "# We have 13 features\n",
    "bestfeatures = SelectKBest(score_func=chi2, k=10) # Apply SelectKBest class to extract top 10 best features\n",
    "fit = bestfeatures.fit(X, y)\n",
    "dfscores = pd.DataFrame(fit.scores_)\n",
    "dfcolumns = pd.DataFrame(X.columns)\n",
    "\n",
    "\n",
    "# Concat two dataframes for better visualization \n",
    "featureScores = pd.concat([dfcolumns, dfscores], axis=1)\n",
    "featureScores.columns = ['Specs', 'Score']  # Naming the dataframe columns\n",
    "\n",
    "\n",
    "print(featureScores.nlargest(9, 'Score'))  # Print 10 most important features"
   ]
  },
  {
   "cell_type": "code",
   "execution_count": null,
   "id": "2989e223",
   "metadata": {
    "id": "2989e223"
   },
   "outputs": [],
   "source": [
    "# Drop the least important features\n",
    "drop_columns = ['restecg', 'trestbps', 'slope']\n",
    "df = df.drop(drop_columns, axis=1) # axis=1 as we want to drop columns, not rows"
   ]
  },
  {
   "cell_type": "markdown",
   "id": "f23264d5",
   "metadata": {
    "id": "f23264d5"
   },
   "source": [
    "## Split the dataset to 80%-20%"
   ]
  },
  {
   "cell_type": "code",
   "execution_count": null,
   "id": "86580fc8",
   "metadata": {
    "id": "86580fc8"
   },
   "outputs": [],
   "source": [
    "# Split the dataset\n",
    "x = df.iloc[:, :-1] # Independent variables\n",
    "y = df.iloc[:, -1] # Dependent variable\n",
    "\n",
    "\n",
    "x_train, x_test, y_train, y_test = train_test_split(x, y, test_size = .20, random_state = 0)"
   ]
  },
  {
   "cell_type": "markdown",
   "id": "ffefc93b",
   "metadata": {
    "id": "ffefc93b"
   },
   "source": [
    "### Check balance class"
   ]
  },
  {
   "cell_type": "code",
   "execution_count": null,
   "id": "19278a64",
   "metadata": {
    "colab": {
     "base_uri": "https://localhost:8080/"
    },
    "id": "19278a64",
    "outputId": "ade21f52-3f43-4d68-b1e7-438efc432457"
   },
   "outputs": [],
   "source": [
    "# View the percentage of each class\n",
    "\n",
    "print('\\nBalance of positive and negative classes (%):')\n",
    "y_train.value_counts(normalize=True)*100"
   ]
  },
  {
   "cell_type": "markdown",
   "id": "252a3717",
   "metadata": {
    "id": "252a3717"
   },
   "source": [
    "## Implementation and Evaluation of the algorithms"
   ]
  },
  {
   "cell_type": "code",
   "execution_count": null,
   "id": "d99754cc",
   "metadata": {
    "id": "d99754cc"
   },
   "outputs": [],
   "source": [
    "def fit_and_evaluate_the_model(model, x_train, y_train, x_test, y_test):\n",
    "    # Fit the training set to the model\n",
    "    model.fit(x_train, y_train)\n",
    "    \n",
    "    # The model predicts the labels of the features in the test set\n",
    "    y_pred = model.predict(x_test)\n",
    "    \n",
    "    \n",
    "    print(classification_report(y_test, y_pred))\n",
    "    print(\"Recall: \", recall_score(y_test, y_pred))\n",
    "    \n",
    "    \n",
    "    # Calculate the confusion matrix\n",
    "    conf_matrix = confusion_matrix(y_test, y_pred)\n",
    "    ax = sns.heatmap(conf_matrix, annot=True, fmt = \"g\")\n",
    "    \n",
    "    \n",
    "    # Plot the confusion matrix\n",
    "    ax.set_title('Confusion Matrix\\n\\n')\n",
    "    ax.set_xlabel('\\nPredicted Values')\n",
    "    ax.set_ylabel('Actual Values ')\n",
    "    \n",
    "    \n",
    "    # Display the visualisation of the Confusion Matrix\n",
    "    plt.rcParams[\"figure.figsize\"] = (5, 3)\n",
    "    plt.show()"
   ]
  },
  {
   "cell_type": "code",
   "execution_count": null,
   "id": "7546eb1f",
   "metadata": {
    "id": "7546eb1f"
   },
   "outputs": [],
   "source": [
    "def find_best_parameters(model, param_grid, x_train, y_train, x_test, y_test):\n",
    "    \n",
    "    # Create a grid search object\n",
    "    grid_search = GridSearchCV(estimator=model, param_grid=param_grid, cv=5, scoring=\"recall\")\n",
    "\n",
    "    # Fit the grid search object to the training data\n",
    "    grid_search.fit(x_train, y_train)\n",
    "\n",
    "    # Print the best parameters\n",
    "    print(\"Best Parameters:\", grid_search.best_params_)\n",
    "    \n",
    "    # Get the result in a tabular format\n",
    "    result = pd.concat([pd.DataFrame(grid_search.cv_results_[\"params\"]),\n",
    "           pd.DataFrame(grid_search.cv_results_[\"mean_test_score\"], columns=[\"Recall\"])],axis=1)\n",
    "    \n",
    "    \n",
    "    return result.sort_values(by=\"Recall\", ascending=False)"
   ]
  },
  {
   "cell_type": "markdown",
   "id": "e30bba51",
   "metadata": {
    "id": "e30bba51"
   },
   "source": [
    "## Logistic Regression"
   ]
  },
  {
   "cell_type": "code",
   "execution_count": null,
   "id": "c88462dd",
   "metadata": {
    "colab": {
     "base_uri": "https://localhost:8080/",
     "height": 0
    },
    "id": "c88462dd",
    "outputId": "68f90c1f-8f3a-4f32-ac79-f0d372a422e9"
   },
   "outputs": [],
   "source": [
    "lr = LogisticRegression()\n",
    "\n",
    "\n",
    "fit_and_evaluate_the_model(lr, x_train, y_train, x_test, y_test)"
   ]
  },
  {
   "cell_type": "markdown",
   "id": "31ee4024",
   "metadata": {
    "id": "31ee4024"
   },
   "source": [
    "## Tuned Logistic Regression using GridSearchCV"
   ]
  },
  {
   "cell_type": "code",
   "execution_count": null,
   "id": "6a08e953",
   "metadata": {
    "colab": {
     "base_uri": "https://localhost:8080/",
     "height": 0
    },
    "id": "6a08e953",
    "outputId": "eb6de1bb-c6c5-4271-d15d-282cda426e1f"
   },
   "outputs": [],
   "source": [
    "lr0 = LogisticRegression()\n",
    "\n",
    "# Create a parameter grid\n",
    "param_grid = {'C': [100, 10, 1.0, 0.1, 0.01], ## Regularization --- high C => stronger regularization\n",
    "              'penalty': ['l2'],\n",
    "              'solver': ['newton-cg', 'lbfgs', 'liblinear']\n",
    "             }\n",
    "\n",
    "\n",
    "best_params = find_best_parameters(lr0, param_grid, x_train, y_train, x_test, y_test)\n",
    "best_params"
   ]
  },
  {
   "cell_type": "code",
   "execution_count": null,
   "id": "7d3a98db",
   "metadata": {
    "colab": {
     "base_uri": "https://localhost:8080/"
    },
    "id": "7d3a98db",
    "outputId": "b75caac2-9d6e-49cb-fdc0-aef30c66b2ba"
   },
   "outputs": [],
   "source": [
    "# Get first key-value pair\n",
    "first_pair = next(iter((best_params.loc[:, ~best_params.columns.isin(['Recall'])].to_dict(orient='index').items())) )\n",
    "first_pair[1]"
   ]
  },
  {
   "cell_type": "code",
   "execution_count": null,
   "id": "d0bc4f17",
   "metadata": {
    "colab": {
     "base_uri": "https://localhost:8080/",
     "height": 0
    },
    "id": "d0bc4f17",
    "outputId": "1fe71edb-26c7-472e-ba15-c8d7c38a114b"
   },
   "outputs": [],
   "source": [
    "lr1 = LogisticRegression(**first_pair[1])\n",
    "\n",
    "\n",
    "fit_and_evaluate_the_model(lr1, x_train, y_train, x_test, y_test)"
   ]
  },
  {
   "cell_type": "markdown",
   "id": "5722599e",
   "metadata": {
    "id": "5722599e"
   },
   "source": [
    "## Decision Tree"
   ]
  },
  {
   "cell_type": "code",
   "execution_count": null,
   "id": "d834aeaa",
   "metadata": {
    "colab": {
     "base_uri": "https://localhost:8080/",
     "height": 0
    },
    "id": "d834aeaa",
    "outputId": "9c889ad2-6ee4-4cdb-91bb-2c17fe8da419"
   },
   "outputs": [],
   "source": [
    "decision_tree = DecisionTreeClassifier()\n",
    "\n",
    "\n",
    "fit_and_evaluate_the_model(decision_tree, x_train, y_train, x_test, y_test)"
   ]
  },
  {
   "cell_type": "markdown",
   "id": "c422a850",
   "metadata": {
    "id": "c422a850"
   },
   "source": [
    "## Tuned Decision Tree using GridSearchCV"
   ]
  },
  {
   "cell_type": "code",
   "execution_count": null,
   "id": "2b3284e8",
   "metadata": {
    "colab": {
     "base_uri": "https://localhost:8080/",
     "height": 0
    },
    "id": "2b3284e8",
    "outputId": "9876b2c0-41f0-439b-a3cf-e9df230d3057"
   },
   "outputs": [],
   "source": [
    "decision_tree0 = DecisionTreeClassifier()\n",
    "\n",
    "\n",
    "# Create a parameter grid\n",
    "param_grid = {\n",
    "    'criterion': ['gini', 'entropy'],\n",
    "    'max_depth': [None, 5, 10, 15],\n",
    "    'min_samples_split': [2, 5, 10],\n",
    "    'min_samples_leaf': [1, 2, 4],\n",
    "}\n",
    "\n",
    "\n",
    "best_params = find_best_parameters(decision_tree0, param_grid, x_train, y_train, x_test, y_test)\n",
    "best_params"
   ]
  },
  {
   "cell_type": "code",
   "execution_count": null,
   "id": "66f0fe28",
   "metadata": {
    "colab": {
     "base_uri": "https://localhost:8080/"
    },
    "id": "66f0fe28",
    "outputId": "a1936f46-60c6-49bd-fc85-2c19d96b2acb"
   },
   "outputs": [],
   "source": [
    "# Exclude Recall column\n",
    "# Replace nan value with None\n",
    "# Convert dataframe to a dictionary\n",
    "\n",
    "\n",
    "# Get first key-value pair\n",
    "first_pair = next(iter((best_params.loc[:, ~best_params.columns.isin(['Recall'])].replace({np.nan: None}).to_dict(orient='index').items())) )\n",
    "first_pair[1]"
   ]
  },
  {
   "cell_type": "code",
   "execution_count": null,
   "id": "12adb172",
   "metadata": {
    "colab": {
     "base_uri": "https://localhost:8080/",
     "height": 0
    },
    "id": "12adb172",
    "outputId": "9eb4ed46-1df8-4f08-8d25-d7725bcada80"
   },
   "outputs": [],
   "source": [
    "decision_tree1 = DecisionTreeClassifier(**first_pair[1])\n",
    "\n",
    "\n",
    "fit_and_evaluate_the_model(decision_tree1, x_train, y_train, x_test, y_test)"
   ]
  },
  {
   "cell_type": "markdown",
   "id": "8894e44c",
   "metadata": {
    "id": "8894e44c"
   },
   "source": [
    "## Random Forest"
   ]
  },
  {
   "cell_type": "code",
   "execution_count": null,
   "id": "7ffb5ce5",
   "metadata": {
    "colab": {
     "base_uri": "https://localhost:8080/",
     "height": 0
    },
    "id": "7ffb5ce5",
    "outputId": "cc3fdec0-5d8b-41cc-d8bc-d8c24e1f06bd"
   },
   "outputs": [],
   "source": [
    "rfc = RandomForestClassifier()\n",
    "\n",
    "\n",
    "fit_and_evaluate_the_model(rfc, x_train, y_train, x_test, y_test)"
   ]
  },
  {
   "cell_type": "markdown",
   "id": "d037f8fe",
   "metadata": {
    "id": "d037f8fe"
   },
   "source": [
    "## Tuned Random Forest using GridSearchCV"
   ]
  },
  {
   "cell_type": "code",
   "execution_count": null,
   "id": "3f7a3a62",
   "metadata": {
    "colab": {
     "base_uri": "https://localhost:8080/",
     "height": 0
    },
    "id": "3f7a3a62",
    "outputId": "f81a029d-9329-4b57-892b-2f46e999dc81"
   },
   "outputs": [],
   "source": [
    "param_grid = {\n",
    "    'n_estimators': [200, 500],\n",
    "    'max_features': ['sqrt', 'log2'],\n",
    "    'max_depth': [4, 5, 6, 7, 8],\n",
    "    'criterion': ['gini', 'entropy']\n",
    "}\n",
    "\n",
    "\n",
    "rfc0 = RandomForestClassifier()\n",
    "\n",
    "\n",
    "best_params = find_best_parameters(rfc0, param_grid, x_train, y_train, x_test, y_test)\n",
    "best_params"
   ]
  },
  {
   "cell_type": "code",
   "execution_count": null,
   "id": "e487100e",
   "metadata": {
    "colab": {
     "base_uri": "https://localhost:8080/"
    },
    "id": "e487100e",
    "outputId": "4054df38-4924-4607-95cd-9e1a424f649a"
   },
   "outputs": [],
   "source": [
    "# Exclude the Recall column\n",
    "# Convert the dataframe to a dictionary\n",
    "\n",
    "\n",
    "# Get first key-value pair\n",
    "first_pair = next(iter((best_params.loc[:, ~best_params.columns.isin(['Recall'])].to_dict(orient='index').items())) )\n",
    "first_pair[1]"
   ]
  },
  {
   "cell_type": "code",
   "execution_count": null,
   "id": "25488117",
   "metadata": {
    "colab": {
     "base_uri": "https://localhost:8080/",
     "height": 0
    },
    "id": "25488117",
    "outputId": "5ec705b9-6592-4287-b17f-acc584eaaf21"
   },
   "outputs": [],
   "source": [
    "rfc1 = RandomForestClassifier(**first_pair[1])\n",
    "\n",
    "\n",
    "fit_and_evaluate_the_model(rfc1, x_train, y_train, x_test, y_test)"
   ]
  },
  {
   "cell_type": "markdown",
   "id": "9a8d522a",
   "metadata": {
    "id": "9a8d522a"
   },
   "source": [
    "## XGBoost"
   ]
  },
  {
   "cell_type": "code",
   "execution_count": null,
   "id": "6764e529",
   "metadata": {
    "colab": {
     "base_uri": "https://localhost:8080/",
     "height": 559
    },
    "id": "6764e529",
    "outputId": "bb346620-a4b1-4020-9096-ac2435250081"
   },
   "outputs": [],
   "source": [
    "xgb = XGBClassifier()\n",
    "\n",
    "\n",
    "fit_and_evaluate_the_model(xgb, x_train, y_train, x_test, y_test)"
   ]
  },
  {
   "cell_type": "markdown",
   "id": "KjEBXkQ7j5ng",
   "metadata": {
    "id": "KjEBXkQ7j5ng"
   },
   "source": [
    "## Tuned XGBoost using GridSearchCV"
   ]
  },
  {
   "cell_type": "code",
   "execution_count": null,
   "id": "UPpkGlCJj9lB",
   "metadata": {
    "colab": {
     "base_uri": "https://localhost:8080/",
     "height": 441
    },
    "id": "UPpkGlCJj9lB",
    "outputId": "9f0c78f9-c51a-40a9-fa83-32b6f08b59ad"
   },
   "outputs": [],
   "source": [
    "param_grid = {\n",
    "    'max_depth': [3, 4, 5],\n",
    "    'learning_rate': [0.1, 0.2, 0.3],\n",
    "    'n_estimators': [100, 200, 300],\n",
    "    'subsample': [0.8, 0.9, 1],\n",
    "    'colsample_bytree': [0.8, 0.9, 1],\n",
    "    'gamma': [0, 1, 2]\n",
    "}\n",
    "\n",
    "\n",
    "xgb0 = XGBClassifier()\n",
    "\n",
    "\n",
    "best_params = find_best_parameters(xgb0, param_grid, x_train, y_train, x_test, y_test)\n",
    "best_params"
   ]
  },
  {
   "cell_type": "code",
   "execution_count": null,
   "id": "eL01CO0gkNuD",
   "metadata": {
    "colab": {
     "base_uri": "https://localhost:8080/"
    },
    "id": "eL01CO0gkNuD",
    "outputId": "d7026867-708d-41cb-b082-f5845058921a"
   },
   "outputs": [],
   "source": [
    "# Exclude the Recall column\n",
    "# Convert the dataframe to a dictionary\n",
    "\n",
    "\n",
    "# Get first key-value pair\n",
    "first_pair = next(iter((best_params.loc[:, ~best_params.columns.isin(['Recall'])].to_dict(orient='index').items())) )\n",
    "first_pair[1]"
   ]
  },
  {
   "cell_type": "code",
   "execution_count": null,
   "id": "DzO7ir3ikQtD",
   "metadata": {
    "colab": {
     "base_uri": "https://localhost:8080/",
     "height": 559
    },
    "id": "DzO7ir3ikQtD",
    "outputId": "f00280ba-e65a-40d0-cfda-d9f9b1cf2128"
   },
   "outputs": [],
   "source": [
    "xgb1 = XGBClassifier(**first_pair[1])\n",
    "\n",
    "\n",
    "fit_and_evaluate_the_model(xgb1, x_train, y_train, x_test, y_test)"
   ]
  },
  {
   "cell_type": "markdown",
   "id": "dd55088d",
   "metadata": {
    "id": "dd55088d"
   },
   "source": [
    "## Cross Validation to check model stability"
   ]
  },
  {
   "cell_type": "code",
   "execution_count": null,
   "id": "c163cc1b",
   "metadata": {
    "id": "c163cc1b"
   },
   "outputs": [],
   "source": [
    "def cross_validation(model, x_train, y_train):\n",
    "    scores = cross_val_score(model, x_train, y_train, cv=5)\n",
    "    \n",
    "    print(\"Cross Validation Scores:\\n\")\n",
    "\n",
    "    print(\"Mean score: \", scores.mean()) # Print mean score\n",
    "    print(\"Standard deviation: \", scores.std()) # Print Standard Deviation\n",
    "    \n",
    "    \n",
    "    return scores"
   ]
  },
  {
   "cell_type": "code",
   "execution_count": null,
   "id": "d0b97f56",
   "metadata": {
    "colab": {
     "base_uri": "https://localhost:8080/"
    },
    "id": "d0b97f56",
    "outputId": "974bddb6-6bc0-4aaf-c999-8c39c3c5bf65"
   },
   "outputs": [],
   "source": [
    "# cross validate logistic regression\n",
    "lr_scores = cross_validation(decision_tree1, x_train, y_train)"
   ]
  },
  {
   "cell_type": "code",
   "execution_count": null,
   "id": "94ce0a9b",
   "metadata": {
    "colab": {
     "base_uri": "https://localhost:8080/"
    },
    "id": "94ce0a9b",
    "outputId": "fd3da619-ff17-47a1-a93f-f3448dc04345"
   },
   "outputs": [],
   "source": [
    "# cross validate decision tree model\n",
    "dtree_scores = cross_validation(decision_tree0, x_train, y_train)"
   ]
  },
  {
   "cell_type": "code",
   "execution_count": null,
   "id": "baf906eb",
   "metadata": {
    "colab": {
     "base_uri": "https://localhost:8080/"
    },
    "id": "baf906eb",
    "outputId": "05a7749f-9e69-42dd-8d10-3c689c2e628b"
   },
   "outputs": [],
   "source": [
    "# cross validate random forest model\n",
    "rf_scores = cross_validation(rfc1, x_train, y_train)"
   ]
  },
  {
   "cell_type": "code",
   "execution_count": null,
   "id": "8d635274",
   "metadata": {
    "colab": {
     "base_uri": "https://localhost:8080/"
    },
    "id": "8d635274",
    "outputId": "9f0e8f15-a911-4eff-9ca4-5d64a64d530f"
   },
   "outputs": [],
   "source": [
    "# cross validate xgboost model\n",
    "xgboost_scores = cross_validation(xgb, x_train, y_train)"
   ]
  },
  {
   "cell_type": "markdown",
   "id": "jG7SmLHdexBU",
   "metadata": {
    "id": "jG7SmLHdexBU"
   },
   "source": [
    "## Plot Cross-Validation Scores using Box Plot"
   ]
  },
  {
   "cell_type": "code",
   "execution_count": null,
   "id": "GjE_5jQteCTd",
   "metadata": {
    "colab": {
     "base_uri": "https://localhost:8080/",
     "height": 338
    },
    "id": "GjE_5jQteCTd",
    "outputId": "c672ee0c-de50-4e92-b6c0-01e227d2a28d"
   },
   "outputs": [],
   "source": [
    "results = []\n",
    "\n",
    "results.append(lr_scores)\n",
    "results.append(dtree_scores)\n",
    "results.append(xgboost_scores)\n",
    "\n",
    "\n",
    "fig = plt.figure()\n",
    "fig.suptitle('Algorithm Comparison on Cross Validation Scores', size=20)\n",
    "plt.boxplot(results)\n",
    "plt.xticks([1, 2, 3], ['Logistic Regression', 'Decision Tree', 'XGBoost'], Fontsize=8)"
   ]
  },
  {
   "cell_type": "markdown",
   "id": "hH68CfohBq4R",
   "metadata": {
    "id": "hH68CfohBq4R"
   },
   "source": [
    "## Export the best performing model"
   ]
  },
  {
   "cell_type": "code",
   "execution_count": null,
   "id": "U9HULEqKBrCB",
   "metadata": {
    "id": "U9HULEqKBrCB"
   },
   "outputs": [],
   "source": [
    "with open('best_model', 'wb') as file:\n",
    "  pickle.dump(xgb, file)"
   ]
  }
 ],
 "metadata": {
  "colab": {
   "collapsed_sections": [
    "cfaaf3fd",
    "c28a856e",
    "351fe2d9",
    "b64fa525",
    "d3e968c9",
    "6e8ecd8d",
    "a1d66320",
    "f23264d5",
    "252a3717",
    "e30bba51",
    "31ee4024",
    "5722599e",
    "c422a850",
    "8894e44c",
    "d037f8fe",
    "9a8d522a",
    "KjEBXkQ7j5ng",
    "dd55088d",
    "jG7SmLHdexBU",
    "hH68CfohBq4R"
   ],
   "provenance": []
  },
  "kernelspec": {
   "display_name": "Python 3 (ipykernel)",
   "language": "python",
   "name": "python3"
  },
  "language_info": {
   "codemirror_mode": {
    "name": "ipython",
    "version": 3
   },
   "file_extension": ".py",
   "mimetype": "text/x-python",
   "name": "python",
   "nbconvert_exporter": "python",
   "pygments_lexer": "ipython3",
   "version": "3.9.5"
  }
 },
 "nbformat": 4,
 "nbformat_minor": 5
}
